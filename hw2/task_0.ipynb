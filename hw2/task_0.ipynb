{
 "cells": [
  {
   "cell_type": "markdown",
   "id": "widespread-rotation",
   "metadata": {},
   "source": [
    "# Part 0: Dataloader and Visualizations"
   ]
  },
  {
   "cell_type": "code",
   "execution_count": 1,
   "id": "dramatic-crest",
   "metadata": {},
   "outputs": [],
   "source": [
    "import torch\n",
    "import wandb\n",
    "import scipy.io\n",
    "\n",
    "import numpy as np\n",
    "\n",
    "import torch.nn as nn\n",
    "import torch.nn.functional as F\n",
    "import torchvision.models as models\n",
    "from torchvision import transforms, datasets\n",
    "from torch.utils.data import DataLoader\n",
    "\n",
    "from voc_dataset import VOCDataset\n",
    "\n",
    "from PIL import Image\n",
    "\n",
    "from utils import *\n",
    "\n",
    "USE_WANDB = True"
   ]
  },
  {
   "cell_type": "markdown",
   "id": "demanding-cedar",
   "metadata": {},
   "source": [
    "## Editing the Dataloader\n",
    "The first part of the assignment involves editing the dataloader so that we can access bounding-box proposals as well as the ground-truth bounding boxes. The ground truth bounding box can be accessed through the VOC Dataset annotations itself. Unsupervised bounding box proposals are obtained through methods such as [Selective Search](https://ivi.fnwi.uva.nl/isis/publications/2013/UijlingsIJCV2013/UijlingsIJCV2013.pdf).\n",
    "\n",
    "Since Selective Search is slow to run on each image, we have pre-computed the bounding box proposals. You should be able to access the `.mat` files using `scipy.io.loadmat('file.mat')`. Feel free to experiment with the data in the files to figure out the number of proposals per image, their scores, etc.\n",
    "\n",
    "Your task is to change the dataloader to obtain the ground-truth bounding boxes, as well as the proposed bounding boxes for each image. Returning a dictionary would be convenient here. For the bounding boxes, using the relative positions is usually a better idea since they are invariant to changes in the size of the image."
   ]
  },
  {
   "cell_type": "code",
   "execution_count": 2,
   "id": "unique-cedar",
   "metadata": {},
   "outputs": [],
   "source": [
    "# Load the Dataset - items at a particular index can be accesed by usual indexing notation (dataset[idx])\n",
    "dataset = VOCDataset('trainval', top_n=10)"
   ]
  },
  {
   "cell_type": "code",
   "execution_count": 6,
   "id": "formal-storm",
   "metadata": {},
   "outputs": [
    {
     "name": "stdout",
     "output_type": "stream",
     "text": [
      "Class of image with index 2020: train\n"
     ]
    }
   ],
   "source": [
    "#TODO: get the image information from index 2020\n",
    "idx = 2020\n",
    "\n",
    "input = dataset[idx]\n",
    "image = input['image']\n",
    "gt_classes, gt_boxes, rois = input['gt_classes'], input['gt_boxes'], input['rois']\n",
    "print(\"Class of image with index 2020:\", VOCDataset.get_class_name(gt_classes[0]))"
   ]
  },
  {
   "cell_type": "markdown",
   "id": "expensive-hughes",
   "metadata": {},
   "source": [
    "## Wandb Init and Logging\n",
    "Initialize a Weights and Biases project, and convert the image tensor to a PIL image and plot it (check `utils.py` for helper functions).\n",
    "\n",
    "You can use [this](https://docs.wandb.ai/library/log) as a reference for logging syntax."
   ]
  },
  {
   "cell_type": "code",
   "execution_count": 7,
   "id": "configured-thickness",
   "metadata": {
    "scrolled": true
   },
   "outputs": [
    {
     "name": "stderr",
     "output_type": "stream",
     "text": [
      "\u001b[34m\u001b[1mwandb\u001b[0m: Currently logged in as: \u001b[33mjiaqigen\u001b[0m (use `wandb login --relogin` to force relogin)\n",
      "/home/jiaqi/anaconda3/envs/16824_hw2/lib/python3.9/site-packages/IPython/html.py:12: ShimWarning: The `IPython.html` package has been deprecated since IPython 4.0. You should import from `notebook` instead. `IPython.html.widgets` has moved to `ipywidgets`.\n",
      "  warn(\"The `IPython.html` package has been deprecated since IPython 4.0. \"\n",
      "\u001b[34m\u001b[1mwandb\u001b[0m: wandb version 0.10.23 is available!  To upgrade, please run:\n",
      "\u001b[34m\u001b[1mwandb\u001b[0m:  $ pip install wandb --upgrade\n"
     ]
    },
    {
     "data": {
      "text/html": [
       "\n",
       "                Tracking run with wandb version 0.10.20<br/>\n",
       "                Syncing run <strong style=\"color:#cdcd00\">jolly-cherry-13</strong> to <a href=\"https://wandb.ai\" target=\"_blank\">Weights & Biases</a> <a href=\"https://docs.wandb.com/integrations/jupyter.html\" target=\"_blank\">(Documentation)</a>.<br/>\n",
       "                Project page: <a href=\"https://wandb.ai/jiaqigen/vlr2\" target=\"_blank\">https://wandb.ai/jiaqigen/vlr2</a><br/>\n",
       "                Run page: <a href=\"https://wandb.ai/jiaqigen/vlr2/runs/9tunffpz\" target=\"_blank\">https://wandb.ai/jiaqigen/vlr2/runs/9tunffpz</a><br/>\n",
       "                Run data is saved locally in <code>/home/jiaqi/Desktop/hw2/wandb/run-20210326_221117-9tunffpz</code><br/><br/>\n",
       "            "
      ],
      "text/plain": [
       "<IPython.core.display.HTML object>"
      ]
     },
     "metadata": {},
     "output_type": "display_data"
    }
   ],
   "source": [
    "if USE_WANDB:\n",
    "    wandb.init(project=\"vlr2\", reinit=True)"
   ]
  },
  {
   "cell_type": "markdown",
   "id": "baking-gibson",
   "metadata": {},
   "source": [
    "See this block as an example of plotting the ground truth box for an image."
   ]
  },
  {
   "cell_type": "code",
   "execution_count": 9,
   "id": "protected-queue",
   "metadata": {},
   "outputs": [],
   "source": [
    "class_id_to_label = dict(enumerate(dataset.CLASS_NAMES))\n",
    "img = wandb.Image(image, boxes={\n",
    "    \"predictions\": {\n",
    "        \"box_data\": get_box_data(gt_classes, gt_boxes),\n",
    "        \"class_labels\": class_id_to_label,\n",
    "    },\n",
    "})\n",
    "wandb.log({\"images\": img})"
   ]
  },
  {
   "cell_type": "markdown",
   "id": "caring-stanley",
   "metadata": {},
   "source": [
    "Check the `get_box_data` function in `utils.py` and understand how it is being used. Log the image with the GT bounding box on wandb.\n",
    "After, this you should be able to easily plot the top 10 bounding proposals as well."
   ]
  },
  {
   "cell_type": "code",
   "execution_count": 14,
   "id": "fuzzy-midwest",
   "metadata": {},
   "outputs": [],
   "source": [
    "#TODO: plot top ten proposals (of bounding boxes)\n",
    "nums = range(len(rois)) # placeholder for names of proposals\n",
    "img = wandb.Image(image, boxes={\n",
    "    \"predictions\": {\n",
    "        \"box_data\": get_box_data(nums, rois),\n",
    "        \"class_labels\": class_id_to_label,\n",
    "    },\n",
    "})\n",
    "wandb.log({\"images\": img})"
   ]
  },
  {
   "cell_type": "code",
   "execution_count": null,
   "id": "amateur-processing",
   "metadata": {},
   "outputs": [],
   "source": []
  }
 ],
 "metadata": {
  "kernelspec": {
   "display_name": "Python 3",
   "language": "python",
   "name": "python3"
  },
  "language_info": {
   "codemirror_mode": {
    "name": "ipython",
    "version": 3
   },
   "file_extension": ".py",
   "mimetype": "text/x-python",
   "name": "python",
   "nbconvert_exporter": "python",
   "pygments_lexer": "ipython3",
   "version": "3.9.2"
  }
 },
 "nbformat": 4,
 "nbformat_minor": 5
}
